{
 "cells": [
  {
   "cell_type": "code",
   "execution_count": 6,
   "id": "7bdd889c-9593-4ddc-8147-5346a3358d0c",
   "metadata": {},
   "outputs": [],
   "source": [
    "import pandas"
   ]
  },
  {
   "cell_type": "code",
   "execution_count": 7,
   "id": "cbb38376-1683-4421-a01c-87a147b3a52e",
   "metadata": {},
   "outputs": [],
   "source": [
    "from matplotlib.pyplot import pie, axis, show"
   ]
  },
  {
   "cell_type": "code",
   "execution_count": 8,
   "id": "8a783fef-335f-4146-b305-f74ca4f11ea7",
   "metadata": {},
   "outputs": [],
   "source": [
    "%matplotlib inline"
   ]
  },
  {
   "cell_type": "code",
   "execution_count": 10,
   "id": "cfa17c39-d53b-4447-ac7a-8ac5695864d6",
   "metadata": {},
   "outputs": [],
   "source": [
    "tarantino = pandas.read_csv('tarantino.csv')"
   ]
  },
  {
   "cell_type": "code",
   "execution_count": 24,
   "id": "1a4dac94-a796-4191-b9b0-ef7ed3069967",
   "metadata": {},
   "outputs": [],
   "source": [
    "sums = tarantino.groupby(tarantino[\"movie\"])[\"type\"].count()"
   ]
  },
  {
   "cell_type": "code",
   "execution_count": 25,
   "id": "afdd5b26-b70f-4458-b275-cf91a96387fd",
   "metadata": {},
   "outputs": [
    {
     "data": {
      "text/plain": [
       "(-0.05500000000000001,\n",
       " 0.05500000000000001,\n",
       " -0.05500000000000001,\n",
       " 0.05500000000000001)"
      ]
     },
     "execution_count": 25,
     "metadata": {},
     "output_type": "execute_result"
    },
    {
     "data": {
      "image/png": "[encoded data removed]",
      "text/plain": [
       "<Figure size 432x288 with 1 Axes>"
      ]
     },
     "metadata": {
      "needs_background": "light"
     },
     "output_type": "display_data"
    }
   ],
   "source": [
    "axis('equal')"
   ]
  },
  {
   "cell_type": "markdown",
   "id": "8afba328-3998-4057-ab6f-7cc049b9c185",
   "metadata": {},
   "source": []
  },
  {
   "cell_type": "code",
   "execution_count": 26,
   "id": "41e75dc4-7f1b-49f5-a92a-b26933f51d68",
   "metadata": {},
   "outputs": [
    {
     "name": "stdout",
     "output_type": "stream",
     "text": [
      "movie\n",
      "Django Unchained       309\n",
      "Inglorious Basterds    106\n",
      "Jackie Brown           372\n",
      "Kill Bill: Vol. 1      120\n",
      "Kill Bill: Vol. 2       80\n",
      "Pulp Fiction           476\n",
      "Reservoir Dogs         431\n",
      "Name: type, dtype: int64\n"
     ]
    }
   ],
   "source": [
    "print(sums)"
   ]
  },
  {
   "cell_type": "code",
   "execution_count": 27,
   "id": "c2cca7cf-9c36-4928-8a31-430280c51a5f",
   "metadata": {},
   "outputs": [
    {
     "data": {
      "text/plain": [
       "([<matplotlib.patches.Wedge at 0x7f9dc2e63280>,\n",
       "  <matplotlib.patches.Wedge at 0x7f9dc5c40bb0>,\n",
       "  <matplotlib.patches.Wedge at 0x7f9db9281f10>,\n",
       "  <matplotlib.patches.Wedge at 0x7f9dbb64e490>,\n",
       "  <matplotlib.patches.Wedge at 0x7f9dbb64eaf0>,\n",
       "  <matplotlib.patches.Wedge at 0x7f9dbb530220>,\n",
       "  <matplotlib.patches.Wedge at 0x7f9dbb530820>],\n",
       " [Text(0.9586515062555282, 0.5394323771836531, 'Django Unchained'),\n",
       "  Text(0.39766605794449006, 1.0256030939690508, 'Inglorious Basterds'),\n",
       "  Text(-0.45151808705960134, 1.0030610235962907, 'Jackie Brown'),\n",
       "  Text(-1.0400242271346918, 0.3582591338303704, 'Kill Bill: Vol. 1'),\n",
       "  Text(-1.0999999999999999, -1.2873678832584484e-08, 'Kill Bill: Vol. 2'),\n",
       "  Text(-0.664438795332765, -0.8766533449755064, 'Pulp Fiction'),\n",
       "  Text(0.8306723999801789, -0.7210987199483645, 'Reservoir Dogs')])"
      ]
     },
     "execution_count": 27,
     "metadata": {},
     "output_type": "execute_result"
    },
    {
     "data": {
      "image/png": "[encoded data removed]",
      "text/plain": [
       "<Figure size 432x288 with 1 Axes>"
      ]
     },
     "metadata": {},
     "output_type": "display_data"
    }
   ],
   "source": [
    "pie(sums, labels=sums.index)"
   ]
  },
  {
   "cell_type": "code",
   "execution_count": null,
   "id": "ef019698-8bb2-47da-a551-67c2fb15edb1",
   "metadata": {},
   "outputs": [],
   "source": []
  }
 ],
 "metadata": {
  "kernelspec": {
   "display_name": "Python 3 (ipykernel)",
   "language": "python",
   "name": "python3"
  },
  "language_info": {
   "codemirror_mode": {
    "name": "ipython",
    "version": 3
   },
   "file_extension": ".py",
   "mimetype": "text/x-python",
   "name": "python",
   "nbconvert_exporter": "python",
   "pygments_lexer": "ipython3",
   "version": "3.8.6"
  }
 },
 "nbformat": 4,
 "nbformat_minor": 5
}
